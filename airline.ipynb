{
 "cells": [
  {
   "cell_type": "code",
   "execution_count": null,
   "metadata": {},
   "outputs": [],
   "source": []
  },
  {
   "cell_type": "markdown",
   "metadata": {},
   "source": [
    "### Airline review analysis\n",
    "The world of aviation industry majorly depends on the ratings and reviews given by other customers. Good ratings attract more customers and vice versa. It is for this reason that most airlines do a review analysis from their clients to asses their position in the market. \n",
    "\n",
    "Not only are the reviews reviewed but also the rating given. The airline management and board of directors always fully depend on the data science team for insights gotten from the consumers data analysed. They are the ones who do a follow-up on both the positive and negative issues raised by their consumers. The analysis doesn't only focus on the negative side of it but also on the positive side where employees maybe given promotions depending on the consumer rating. Pilots may also be considered for pay rises and much more. "
   ]
  },
  {
   "cell_type": "markdown",
   "metadata": {},
   "source": [
    "### Business Objectives \n",
    "Given the airline data, we seek to:\n",
    "1. Develop a review classification model to classify the reviews into negative, neutral and positive sentiments.\n",
    "2. Find the most well rated airlines monthly and yearly with good comfort and good customer service.\n",
    "3. Find the most luxurious airline in terms of seat comfort, food served, wifi connectivity and inflight entertainment.  "
   ]
  },
  {
   "cell_type": "markdown",
   "metadata": {},
   "source": [
    "### Import libraries"
   ]
  },
  {
   "cell_type": "code",
   "execution_count": 19,
   "metadata": {},
   "outputs": [],
   "source": [
    "import pandas as pd  \n",
    "import numpy as np \n",
    "\n",
    "import matplotlib.pyplot as plt \n",
    "import seaborn as sns \n",
    "%matplotlib inline \n",
    "\n",
    "\n",
    "from sklearn.model_selection import train_test_split \n",
    "from sklearn.linear_model import LogisticRegression \n",
    "from sklearn.metrics import classification_report \n",
    "from sklearn.feature_extraction.text import CountVectorizer, TfidfVectorizer\n",
    "from sklearn.impute import KNNImputer\n",
    "import spacy \n",
    "import nltk \n",
    "from nltk.corpus import stopwords \n",
    "from nltk.tokenize import word_tokenize\n",
    "import re \n",
    "import inflect \n",
    "from nltk.stem import WordNetLemmatizer \n",
    "import gensim \n",
    "\n",
    "sns.set_style('white')"
   ]
  },
  {
   "cell_type": "markdown",
   "metadata": {},
   "source": [
    "### Data Understanding"
   ]
  },
  {
   "cell_type": "code",
   "execution_count": 3,
   "metadata": {},
   "outputs": [
    {
     "data": {
      "text/html": [
       "<div>\n",
       "<style scoped>\n",
       "    .dataframe tbody tr th:only-of-type {\n",
       "        vertical-align: middle;\n",
       "    }\n",
       "\n",
       "    .dataframe tbody tr th {\n",
       "        vertical-align: top;\n",
       "    }\n",
       "\n",
       "    .dataframe thead th {\n",
       "        text-align: right;\n",
       "    }\n",
       "</style>\n",
       "<table border=\"1\" class=\"dataframe\">\n",
       "  <thead>\n",
       "    <tr style=\"text-align: right;\">\n",
       "      <th></th>\n",
       "      <th>Unnamed: 0</th>\n",
       "      <th>Airline Name</th>\n",
       "      <th>Overall_Rating</th>\n",
       "      <th>Review_Title</th>\n",
       "      <th>Review Date</th>\n",
       "      <th>Verified</th>\n",
       "      <th>Review</th>\n",
       "      <th>Aircraft</th>\n",
       "      <th>Type Of Traveller</th>\n",
       "      <th>Seat Type</th>\n",
       "      <th>Route</th>\n",
       "      <th>Date Flown</th>\n",
       "      <th>Seat Comfort</th>\n",
       "      <th>Cabin Staff Service</th>\n",
       "      <th>Food &amp; Beverages</th>\n",
       "      <th>Ground Service</th>\n",
       "      <th>Inflight Entertainment</th>\n",
       "      <th>Wifi &amp; Connectivity</th>\n",
       "      <th>Value For Money</th>\n",
       "      <th>Recommended</th>\n",
       "    </tr>\n",
       "  </thead>\n",
       "  <tbody>\n",
       "    <tr>\n",
       "      <th>0</th>\n",
       "      <td>0</td>\n",
       "      <td>AB Aviation</td>\n",
       "      <td>9</td>\n",
       "      <td>\"pretty decent airline\"</td>\n",
       "      <td>11th November 2019</td>\n",
       "      <td>True</td>\n",
       "      <td>Moroni to Moheli. Turned out to be a pretty ...</td>\n",
       "      <td>NaN</td>\n",
       "      <td>Solo Leisure</td>\n",
       "      <td>Economy Class</td>\n",
       "      <td>Moroni to Moheli</td>\n",
       "      <td>November 2019</td>\n",
       "      <td>4.0</td>\n",
       "      <td>5.0</td>\n",
       "      <td>4.0</td>\n",
       "      <td>4.0</td>\n",
       "      <td>NaN</td>\n",
       "      <td>NaN</td>\n",
       "      <td>3.0</td>\n",
       "      <td>yes</td>\n",
       "    </tr>\n",
       "    <tr>\n",
       "      <th>1</th>\n",
       "      <td>1</td>\n",
       "      <td>AB Aviation</td>\n",
       "      <td>1</td>\n",
       "      <td>\"Not a good airline\"</td>\n",
       "      <td>25th June 2019</td>\n",
       "      <td>True</td>\n",
       "      <td>Moroni to Anjouan. It is a very small airline...</td>\n",
       "      <td>E120</td>\n",
       "      <td>Solo Leisure</td>\n",
       "      <td>Economy Class</td>\n",
       "      <td>Moroni to Anjouan</td>\n",
       "      <td>June 2019</td>\n",
       "      <td>2.0</td>\n",
       "      <td>2.0</td>\n",
       "      <td>1.0</td>\n",
       "      <td>1.0</td>\n",
       "      <td>NaN</td>\n",
       "      <td>NaN</td>\n",
       "      <td>2.0</td>\n",
       "      <td>no</td>\n",
       "    </tr>\n",
       "    <tr>\n",
       "      <th>2</th>\n",
       "      <td>2</td>\n",
       "      <td>AB Aviation</td>\n",
       "      <td>1</td>\n",
       "      <td>\"flight was fortunately short\"</td>\n",
       "      <td>25th June 2019</td>\n",
       "      <td>True</td>\n",
       "      <td>Anjouan to Dzaoudzi. A very small airline an...</td>\n",
       "      <td>Embraer E120</td>\n",
       "      <td>Solo Leisure</td>\n",
       "      <td>Economy Class</td>\n",
       "      <td>Anjouan to Dzaoudzi</td>\n",
       "      <td>June 2019</td>\n",
       "      <td>2.0</td>\n",
       "      <td>1.0</td>\n",
       "      <td>1.0</td>\n",
       "      <td>1.0</td>\n",
       "      <td>NaN</td>\n",
       "      <td>NaN</td>\n",
       "      <td>2.0</td>\n",
       "      <td>no</td>\n",
       "    </tr>\n",
       "    <tr>\n",
       "      <th>3</th>\n",
       "      <td>3</td>\n",
       "      <td>Adria Airways</td>\n",
       "      <td>1</td>\n",
       "      <td>\"I will never fly again with Adria\"</td>\n",
       "      <td>28th September 2019</td>\n",
       "      <td>False</td>\n",
       "      <td>Please do a favor yourself and do not fly wi...</td>\n",
       "      <td>NaN</td>\n",
       "      <td>Solo Leisure</td>\n",
       "      <td>Economy Class</td>\n",
       "      <td>Frankfurt to Pristina</td>\n",
       "      <td>September 2019</td>\n",
       "      <td>1.0</td>\n",
       "      <td>1.0</td>\n",
       "      <td>NaN</td>\n",
       "      <td>1.0</td>\n",
       "      <td>NaN</td>\n",
       "      <td>NaN</td>\n",
       "      <td>1.0</td>\n",
       "      <td>no</td>\n",
       "    </tr>\n",
       "    <tr>\n",
       "      <th>4</th>\n",
       "      <td>4</td>\n",
       "      <td>Adria Airways</td>\n",
       "      <td>1</td>\n",
       "      <td>\"it ruined our last days of holidays\"</td>\n",
       "      <td>24th September 2019</td>\n",
       "      <td>True</td>\n",
       "      <td>Do not book a flight with this airline! My fr...</td>\n",
       "      <td>NaN</td>\n",
       "      <td>Couple Leisure</td>\n",
       "      <td>Economy Class</td>\n",
       "      <td>Sofia to Amsterdam via Ljubljana</td>\n",
       "      <td>September 2019</td>\n",
       "      <td>1.0</td>\n",
       "      <td>1.0</td>\n",
       "      <td>1.0</td>\n",
       "      <td>1.0</td>\n",
       "      <td>1.0</td>\n",
       "      <td>1.0</td>\n",
       "      <td>1.0</td>\n",
       "      <td>no</td>\n",
       "    </tr>\n",
       "  </tbody>\n",
       "</table>\n",
       "</div>"
      ],
      "text/plain": [
       "   Unnamed: 0   Airline Name Overall_Rating  \\\n",
       "0           0    AB Aviation              9   \n",
       "1           1    AB Aviation              1   \n",
       "2           2    AB Aviation              1   \n",
       "3           3  Adria Airways              1   \n",
       "4           4  Adria Airways              1   \n",
       "\n",
       "                            Review_Title          Review Date  Verified  \\\n",
       "0                \"pretty decent airline\"   11th November 2019      True   \n",
       "1                   \"Not a good airline\"       25th June 2019      True   \n",
       "2         \"flight was fortunately short\"       25th June 2019      True   \n",
       "3    \"I will never fly again with Adria\"  28th September 2019     False   \n",
       "4  \"it ruined our last days of holidays\"  24th September 2019      True   \n",
       "\n",
       "                                              Review       Aircraft  \\\n",
       "0    Moroni to Moheli. Turned out to be a pretty ...            NaN   \n",
       "1   Moroni to Anjouan. It is a very small airline...           E120   \n",
       "2    Anjouan to Dzaoudzi. A very small airline an...  Embraer E120    \n",
       "3    Please do a favor yourself and do not fly wi...            NaN   \n",
       "4   Do not book a flight with this airline! My fr...            NaN   \n",
       "\n",
       "  Type Of Traveller      Seat Type                             Route  \\\n",
       "0      Solo Leisure  Economy Class                  Moroni to Moheli   \n",
       "1      Solo Leisure  Economy Class                 Moroni to Anjouan   \n",
       "2      Solo Leisure  Economy Class               Anjouan to Dzaoudzi   \n",
       "3      Solo Leisure  Economy Class             Frankfurt to Pristina   \n",
       "4    Couple Leisure  Economy Class  Sofia to Amsterdam via Ljubljana   \n",
       "\n",
       "       Date Flown  Seat Comfort  Cabin Staff Service  Food & Beverages  \\\n",
       "0   November 2019           4.0                  5.0               4.0   \n",
       "1       June 2019           2.0                  2.0               1.0   \n",
       "2       June 2019           2.0                  1.0               1.0   \n",
       "3  September 2019           1.0                  1.0               NaN   \n",
       "4  September 2019           1.0                  1.0               1.0   \n",
       "\n",
       "   Ground Service  Inflight Entertainment  Wifi & Connectivity  \\\n",
       "0             4.0                     NaN                  NaN   \n",
       "1             1.0                     NaN                  NaN   \n",
       "2             1.0                     NaN                  NaN   \n",
       "3             1.0                     NaN                  NaN   \n",
       "4             1.0                     1.0                  1.0   \n",
       "\n",
       "   Value For Money Recommended  \n",
       "0              3.0         yes  \n",
       "1              2.0          no  \n",
       "2              2.0          no  \n",
       "3              1.0          no  \n",
       "4              1.0          no  "
      ]
     },
     "execution_count": 3,
     "metadata": {},
     "output_type": "execute_result"
    }
   ],
   "source": [
    "origin_df = pd.read_csv(\"Airline_review.csv\")\n",
    "origin_df.head()"
   ]
  },
  {
   "cell_type": "code",
   "execution_count": 5,
   "metadata": {},
   "outputs": [
    {
     "name": "stdout",
     "output_type": "stream",
     "text": [
      "<class 'pandas.core.frame.DataFrame'>\n",
      "RangeIndex: 23171 entries, 0 to 23170\n",
      "Data columns (total 20 columns):\n",
      " #   Column                  Non-Null Count  Dtype  \n",
      "---  ------                  --------------  -----  \n",
      " 0   Unnamed: 0              23171 non-null  int64  \n",
      " 1   Airline Name            23171 non-null  object \n",
      " 2   Overall_Rating          23171 non-null  object \n",
      " 3   Review_Title            23171 non-null  object \n",
      " 4   Review Date             23171 non-null  object \n",
      " 5   Verified                23171 non-null  bool   \n",
      " 6   Review                  23171 non-null  object \n",
      " 7   Aircraft                7129 non-null   object \n",
      " 8   Type Of Traveller       19433 non-null  object \n",
      " 9   Seat Type               22075 non-null  object \n",
      " 10  Route                   19343 non-null  object \n",
      " 11  Date Flown              19417 non-null  object \n",
      " 12  Seat Comfort            19016 non-null  float64\n",
      " 13  Cabin Staff Service     18911 non-null  float64\n",
      " 14  Food & Beverages        14500 non-null  float64\n",
      " 15  Ground Service          18378 non-null  float64\n",
      " 16  Inflight Entertainment  10829 non-null  float64\n",
      " 17  Wifi & Connectivity     5920 non-null   float64\n",
      " 18  Value For Money         22105 non-null  float64\n",
      " 19  Recommended             23171 non-null  object \n",
      "dtypes: bool(1), float64(7), int64(1), object(11)\n",
      "memory usage: 3.4+ MB\n"
     ]
    }
   ],
   "source": [
    "origin_df.info()"
   ]
  },
  {
   "cell_type": "code",
   "execution_count": 4,
   "metadata": {},
   "outputs": [
    {
     "data": {
      "text/plain": [
       "Unnamed: 0                    0\n",
       "Airline Name                  0\n",
       "Overall_Rating                0\n",
       "Review_Title                  0\n",
       "Review Date                   0\n",
       "Verified                      0\n",
       "Review                        0\n",
       "Aircraft                  16042\n",
       "Type Of Traveller          3738\n",
       "Seat Type                  1096\n",
       "Route                      3828\n",
       "Date Flown                 3754\n",
       "Seat Comfort               4155\n",
       "Cabin Staff Service        4260\n",
       "Food & Beverages           8671\n",
       "Ground Service             4793\n",
       "Inflight Entertainment    12342\n",
       "Wifi & Connectivity       17251\n",
       "Value For Money            1066\n",
       "Recommended                   0\n",
       "dtype: int64"
      ]
     },
     "execution_count": 4,
     "metadata": {},
     "output_type": "execute_result"
    }
   ],
   "source": [
    "origin_df.isna().sum()"
   ]
  },
  {
   "cell_type": "markdown",
   "metadata": {},
   "source": [
    "The **Aircraft**, **Wifi & Connectivity** and **Inflight Entertainment** columns have the highest number of missing values. Columns to be dropped are those which are not tied in any way to our business objectives namely the **Aircraft** column. "
   ]
  },
  {
   "cell_type": "code",
   "execution_count": 7,
   "metadata": {},
   "outputs": [
    {
     "name": "stdout",
     "output_type": "stream",
     "text": [
      "Unnamed: 0 has 23171 unique values\n",
      "Airline Name has 497 unique values\n",
      "Overall_Rating has 10 unique values\n",
      "Review_Title has 17219 unique values\n",
      "Review Date has 4557 unique values\n",
      "Verified has 2 unique values\n",
      "Review has 23046 unique values\n",
      "Aircraft has 1048 unique values\n",
      "Type Of Traveller has 4 unique values\n",
      "Seat Type has 4 unique values\n",
      "Route has 13607 unique values\n",
      "Date Flown has 109 unique values\n",
      "Seat Comfort has 6 unique values\n",
      "Cabin Staff Service has 6 unique values\n",
      "Food & Beverages has 6 unique values\n",
      "Ground Service has 5 unique values\n",
      "Inflight Entertainment has 6 unique values\n",
      "Wifi & Connectivity has 6 unique values\n",
      "Value For Money has 6 unique values\n",
      "Recommended has 2 unique values\n"
     ]
    }
   ],
   "source": [
    "for cols in origin_df.columns:\n",
    "    print(f\"{cols} has {origin_df[cols].nunique()} unique values\")"
   ]
  },
  {
   "cell_type": "markdown",
   "metadata": {},
   "source": [
    "The **Review Date** column is not a **Date time** object and it is therefore necessary to extract the year column. "
   ]
  },
  {
   "cell_type": "code",
   "execution_count": 8,
   "metadata": {},
   "outputs": [
    {
     "data": {
      "text/plain": [
       "0"
      ]
     },
     "execution_count": 8,
     "metadata": {},
     "output_type": "execute_result"
    }
   ],
   "source": [
    "origin_df.duplicated().sum()"
   ]
  },
  {
   "cell_type": "markdown",
   "metadata": {},
   "source": [
    "The dataset has no duplicate values."
   ]
  },
  {
   "cell_type": "code",
   "execution_count": 24,
   "metadata": {},
   "outputs": [],
   "source": [
    "\n",
    "origin_df.drop(columns=['Wifi & Connectivity','Inflight Entertainment','Ground Service','Seat Comfort','Cabin Staff Service','Food & Beverages'],\n",
    "               inplace=True)"
   ]
  },
  {
   "cell_type": "markdown",
   "metadata": {},
   "source": [
    "### Feature engineering & Explorative Data Analysis "
   ]
  },
  {
   "cell_type": "code",
   "execution_count": 25,
   "metadata": {},
   "outputs": [
    {
     "data": {
      "text/html": [
       "<div>\n",
       "<style scoped>\n",
       "    .dataframe tbody tr th:only-of-type {\n",
       "        vertical-align: middle;\n",
       "    }\n",
       "\n",
       "    .dataframe tbody tr th {\n",
       "        vertical-align: top;\n",
       "    }\n",
       "\n",
       "    .dataframe thead th {\n",
       "        text-align: right;\n",
       "    }\n",
       "</style>\n",
       "<table border=\"1\" class=\"dataframe\">\n",
       "  <thead>\n",
       "    <tr style=\"text-align: right;\">\n",
       "      <th></th>\n",
       "      <th>Unnamed: 0</th>\n",
       "      <th>Airline Name</th>\n",
       "      <th>Overall_Rating</th>\n",
       "      <th>Review_Title</th>\n",
       "      <th>Review Date</th>\n",
       "      <th>Verified</th>\n",
       "      <th>Review</th>\n",
       "      <th>Aircraft</th>\n",
       "      <th>Type Of Traveller</th>\n",
       "      <th>Seat Type</th>\n",
       "      <th>Route</th>\n",
       "      <th>Date Flown</th>\n",
       "      <th>Value For Money</th>\n",
       "      <th>Recommended</th>\n",
       "    </tr>\n",
       "  </thead>\n",
       "  <tbody>\n",
       "    <tr>\n",
       "      <th>0</th>\n",
       "      <td>0</td>\n",
       "      <td>AB Aviation</td>\n",
       "      <td>9</td>\n",
       "      <td>\"pretty decent airline\"</td>\n",
       "      <td>11th November 2019</td>\n",
       "      <td>True</td>\n",
       "      <td>Moroni to Moheli. Turned out to be a pretty ...</td>\n",
       "      <td>NaN</td>\n",
       "      <td>Solo Leisure</td>\n",
       "      <td>Economy Class</td>\n",
       "      <td>Moroni to Moheli</td>\n",
       "      <td>November 2019</td>\n",
       "      <td>3.0</td>\n",
       "      <td>yes</td>\n",
       "    </tr>\n",
       "    <tr>\n",
       "      <th>1</th>\n",
       "      <td>1</td>\n",
       "      <td>AB Aviation</td>\n",
       "      <td>1</td>\n",
       "      <td>\"Not a good airline\"</td>\n",
       "      <td>25th June 2019</td>\n",
       "      <td>True</td>\n",
       "      <td>Moroni to Anjouan. It is a very small airline...</td>\n",
       "      <td>E120</td>\n",
       "      <td>Solo Leisure</td>\n",
       "      <td>Economy Class</td>\n",
       "      <td>Moroni to Anjouan</td>\n",
       "      <td>June 2019</td>\n",
       "      <td>2.0</td>\n",
       "      <td>no</td>\n",
       "    </tr>\n",
       "    <tr>\n",
       "      <th>2</th>\n",
       "      <td>2</td>\n",
       "      <td>AB Aviation</td>\n",
       "      <td>1</td>\n",
       "      <td>\"flight was fortunately short\"</td>\n",
       "      <td>25th June 2019</td>\n",
       "      <td>True</td>\n",
       "      <td>Anjouan to Dzaoudzi. A very small airline an...</td>\n",
       "      <td>Embraer E120</td>\n",
       "      <td>Solo Leisure</td>\n",
       "      <td>Economy Class</td>\n",
       "      <td>Anjouan to Dzaoudzi</td>\n",
       "      <td>June 2019</td>\n",
       "      <td>2.0</td>\n",
       "      <td>no</td>\n",
       "    </tr>\n",
       "    <tr>\n",
       "      <th>3</th>\n",
       "      <td>3</td>\n",
       "      <td>Adria Airways</td>\n",
       "      <td>1</td>\n",
       "      <td>\"I will never fly again with Adria\"</td>\n",
       "      <td>28th September 2019</td>\n",
       "      <td>False</td>\n",
       "      <td>Please do a favor yourself and do not fly wi...</td>\n",
       "      <td>NaN</td>\n",
       "      <td>Solo Leisure</td>\n",
       "      <td>Economy Class</td>\n",
       "      <td>Frankfurt to Pristina</td>\n",
       "      <td>September 2019</td>\n",
       "      <td>1.0</td>\n",
       "      <td>no</td>\n",
       "    </tr>\n",
       "    <tr>\n",
       "      <th>4</th>\n",
       "      <td>4</td>\n",
       "      <td>Adria Airways</td>\n",
       "      <td>1</td>\n",
       "      <td>\"it ruined our last days of holidays\"</td>\n",
       "      <td>24th September 2019</td>\n",
       "      <td>True</td>\n",
       "      <td>Do not book a flight with this airline! My fr...</td>\n",
       "      <td>NaN</td>\n",
       "      <td>Couple Leisure</td>\n",
       "      <td>Economy Class</td>\n",
       "      <td>Sofia to Amsterdam via Ljubljana</td>\n",
       "      <td>September 2019</td>\n",
       "      <td>1.0</td>\n",
       "      <td>no</td>\n",
       "    </tr>\n",
       "  </tbody>\n",
       "</table>\n",
       "</div>"
      ],
      "text/plain": [
       "   Unnamed: 0   Airline Name Overall_Rating  \\\n",
       "0           0    AB Aviation              9   \n",
       "1           1    AB Aviation              1   \n",
       "2           2    AB Aviation              1   \n",
       "3           3  Adria Airways              1   \n",
       "4           4  Adria Airways              1   \n",
       "\n",
       "                            Review_Title          Review Date  Verified  \\\n",
       "0                \"pretty decent airline\"   11th November 2019      True   \n",
       "1                   \"Not a good airline\"       25th June 2019      True   \n",
       "2         \"flight was fortunately short\"       25th June 2019      True   \n",
       "3    \"I will never fly again with Adria\"  28th September 2019     False   \n",
       "4  \"it ruined our last days of holidays\"  24th September 2019      True   \n",
       "\n",
       "                                              Review       Aircraft  \\\n",
       "0    Moroni to Moheli. Turned out to be a pretty ...            NaN   \n",
       "1   Moroni to Anjouan. It is a very small airline...           E120   \n",
       "2    Anjouan to Dzaoudzi. A very small airline an...  Embraer E120    \n",
       "3    Please do a favor yourself and do not fly wi...            NaN   \n",
       "4   Do not book a flight with this airline! My fr...            NaN   \n",
       "\n",
       "  Type Of Traveller      Seat Type                             Route  \\\n",
       "0      Solo Leisure  Economy Class                  Moroni to Moheli   \n",
       "1      Solo Leisure  Economy Class                 Moroni to Anjouan   \n",
       "2      Solo Leisure  Economy Class               Anjouan to Dzaoudzi   \n",
       "3      Solo Leisure  Economy Class             Frankfurt to Pristina   \n",
       "4    Couple Leisure  Economy Class  Sofia to Amsterdam via Ljubljana   \n",
       "\n",
       "       Date Flown  Value For Money Recommended  \n",
       "0   November 2019              3.0         yes  \n",
       "1       June 2019              2.0          no  \n",
       "2       June 2019              2.0          no  \n",
       "3  September 2019              1.0          no  \n",
       "4  September 2019              1.0          no  "
      ]
     },
     "execution_count": 25,
     "metadata": {},
     "output_type": "execute_result"
    }
   ],
   "source": [
    "eda_df = origin_df.copy()\n",
    "eda_df.head()"
   ]
  },
  {
   "cell_type": "code",
   "execution_count": 30,
   "metadata": {},
   "outputs": [],
   "source": [
    "eda_df['Year'] = eda_df['Review Date'].apply(lambda x: x[-4:]).astype(int)\n",
    "eda_df['Month'] = eda_df['Review Date'].apply(lambda x: x.split()[1])\n"
   ]
  },
  {
   "cell_type": "markdown",
   "metadata": {},
   "source": [
    "To get the Review **Months** and **Years**, engineering new features from the **Review date** column is necessary. "
   ]
  },
  {
   "cell_type": "code",
   "execution_count": 31,
   "metadata": {},
   "outputs": [
    {
     "data": {
      "text/plain": [
       "1     11595\n",
       "2      2296\n",
       "9      1768\n",
       "8      1757\n",
       "3      1356\n",
       "7      1193\n",
       "4       859\n",
       "10      842\n",
       "5       830\n",
       "6       675\n",
       "Name: Overall_Rating, dtype: int64"
      ]
     },
     "execution_count": 31,
     "metadata": {},
     "output_type": "execute_result"
    }
   ],
   "source": [
    "eda_df[\"Overall_Rating\"].value_counts()"
   ]
  },
  {
   "cell_type": "code",
   "execution_count": 32,
   "metadata": {},
   "outputs": [],
   "source": [
    "eda_df[\"Overall_Rating\"] = eda_df[\"Overall_Rating\"].replace({'n':10})"
   ]
  },
  {
   "cell_type": "code",
   "execution_count": 33,
   "metadata": {},
   "outputs": [
    {
     "name": "stderr",
     "output_type": "stream",
     "text": [
      "C:\\Users\\user\\AppData\\Local\\Temp\\ipykernel_4844\\978556354.py:5: SettingWithCopyWarning: \n",
      "A value is trying to be set on a copy of a slice from a DataFrame\n",
      "\n",
      "See the caveats in the documentation: https://pandas.pydata.org/pandas-docs/stable/user_guide/indexing.html#returning-a-view-versus-a-copy\n",
      "  eda_df[\"Overall_Rating\"][i] = 2\n",
      "C:\\Users\\user\\AppData\\Local\\Temp\\ipykernel_4844\\978556354.py:9: SettingWithCopyWarning: \n",
      "A value is trying to be set on a copy of a slice from a DataFrame\n",
      "\n",
      "See the caveats in the documentation: https://pandas.pydata.org/pandas-docs/stable/user_guide/indexing.html#returning-a-view-versus-a-copy\n",
      "  eda_df[\"Overall_Rating\"][i] = 0\n",
      "C:\\Users\\user\\AppData\\Local\\Temp\\ipykernel_4844\\978556354.py:7: SettingWithCopyWarning: \n",
      "A value is trying to be set on a copy of a slice from a DataFrame\n",
      "\n",
      "See the caveats in the documentation: https://pandas.pydata.org/pandas-docs/stable/user_guide/indexing.html#returning-a-view-versus-a-copy\n",
      "  eda_df[\"Overall_Rating\"][i] = 1\n"
     ]
    }
   ],
   "source": [
    "\n",
    "eda_df[\"Overall_Rating\"] = eda_df[\"Overall_Rating\"].astype(int)\n",
    "\n",
    "for i in range(len(eda_df[\"Overall_Rating\"])):\n",
    "    if eda_df[\"Overall_Rating\"][i] > 7:\n",
    "        eda_df[\"Overall_Rating\"][i] = 2\n",
    "    elif eda_df[\"Overall_Rating\"][i] > 4:\n",
    "        eda_df[\"Overall_Rating\"][i] = 1\n",
    "    else:\n",
    "        eda_df[\"Overall_Rating\"][i] = 0 "
   ]
  },
  {
   "cell_type": "markdown",
   "metadata": {},
   "source": []
  },
  {
   "cell_type": "code",
   "execution_count": 34,
   "metadata": {},
   "outputs": [
    {
     "data": {
      "text/html": [
       "<div>\n",
       "<style scoped>\n",
       "    .dataframe tbody tr th:only-of-type {\n",
       "        vertical-align: middle;\n",
       "    }\n",
       "\n",
       "    .dataframe tbody tr th {\n",
       "        vertical-align: top;\n",
       "    }\n",
       "\n",
       "    .dataframe thead th {\n",
       "        text-align: right;\n",
       "    }\n",
       "</style>\n",
       "<table border=\"1\" class=\"dataframe\">\n",
       "  <thead>\n",
       "    <tr style=\"text-align: right;\">\n",
       "      <th></th>\n",
       "      <th>Unnamed: 0</th>\n",
       "      <th>Airline Name</th>\n",
       "      <th>Overall_Rating</th>\n",
       "      <th>Review_Title</th>\n",
       "      <th>Review Date</th>\n",
       "      <th>Verified</th>\n",
       "      <th>Review</th>\n",
       "      <th>Aircraft</th>\n",
       "      <th>Type Of Traveller</th>\n",
       "      <th>Seat Type</th>\n",
       "      <th>Route</th>\n",
       "      <th>Date Flown</th>\n",
       "      <th>Value For Money</th>\n",
       "      <th>Recommended</th>\n",
       "      <th>Year</th>\n",
       "      <th>Month</th>\n",
       "    </tr>\n",
       "  </thead>\n",
       "  <tbody>\n",
       "    <tr>\n",
       "      <th>0</th>\n",
       "      <td>0</td>\n",
       "      <td>AB Aviation</td>\n",
       "      <td>2</td>\n",
       "      <td>\"pretty decent airline\"</td>\n",
       "      <td>11th November 2019</td>\n",
       "      <td>True</td>\n",
       "      <td>Moroni to Moheli. Turned out to be a pretty ...</td>\n",
       "      <td>NaN</td>\n",
       "      <td>Solo Leisure</td>\n",
       "      <td>Economy Class</td>\n",
       "      <td>Moroni to Moheli</td>\n",
       "      <td>November 2019</td>\n",
       "      <td>3.0</td>\n",
       "      <td>yes</td>\n",
       "      <td>2019</td>\n",
       "      <td>November</td>\n",
       "    </tr>\n",
       "    <tr>\n",
       "      <th>1</th>\n",
       "      <td>1</td>\n",
       "      <td>AB Aviation</td>\n",
       "      <td>0</td>\n",
       "      <td>\"Not a good airline\"</td>\n",
       "      <td>25th June 2019</td>\n",
       "      <td>True</td>\n",
       "      <td>Moroni to Anjouan. It is a very small airline...</td>\n",
       "      <td>E120</td>\n",
       "      <td>Solo Leisure</td>\n",
       "      <td>Economy Class</td>\n",
       "      <td>Moroni to Anjouan</td>\n",
       "      <td>June 2019</td>\n",
       "      <td>2.0</td>\n",
       "      <td>no</td>\n",
       "      <td>2019</td>\n",
       "      <td>June</td>\n",
       "    </tr>\n",
       "    <tr>\n",
       "      <th>2</th>\n",
       "      <td>2</td>\n",
       "      <td>AB Aviation</td>\n",
       "      <td>0</td>\n",
       "      <td>\"flight was fortunately short\"</td>\n",
       "      <td>25th June 2019</td>\n",
       "      <td>True</td>\n",
       "      <td>Anjouan to Dzaoudzi. A very small airline an...</td>\n",
       "      <td>Embraer E120</td>\n",
       "      <td>Solo Leisure</td>\n",
       "      <td>Economy Class</td>\n",
       "      <td>Anjouan to Dzaoudzi</td>\n",
       "      <td>June 2019</td>\n",
       "      <td>2.0</td>\n",
       "      <td>no</td>\n",
       "      <td>2019</td>\n",
       "      <td>June</td>\n",
       "    </tr>\n",
       "    <tr>\n",
       "      <th>3</th>\n",
       "      <td>3</td>\n",
       "      <td>Adria Airways</td>\n",
       "      <td>0</td>\n",
       "      <td>\"I will never fly again with Adria\"</td>\n",
       "      <td>28th September 2019</td>\n",
       "      <td>False</td>\n",
       "      <td>Please do a favor yourself and do not fly wi...</td>\n",
       "      <td>NaN</td>\n",
       "      <td>Solo Leisure</td>\n",
       "      <td>Economy Class</td>\n",
       "      <td>Frankfurt to Pristina</td>\n",
       "      <td>September 2019</td>\n",
       "      <td>1.0</td>\n",
       "      <td>no</td>\n",
       "      <td>2019</td>\n",
       "      <td>September</td>\n",
       "    </tr>\n",
       "    <tr>\n",
       "      <th>4</th>\n",
       "      <td>4</td>\n",
       "      <td>Adria Airways</td>\n",
       "      <td>0</td>\n",
       "      <td>\"it ruined our last days of holidays\"</td>\n",
       "      <td>24th September 2019</td>\n",
       "      <td>True</td>\n",
       "      <td>Do not book a flight with this airline! My fr...</td>\n",
       "      <td>NaN</td>\n",
       "      <td>Couple Leisure</td>\n",
       "      <td>Economy Class</td>\n",
       "      <td>Sofia to Amsterdam via Ljubljana</td>\n",
       "      <td>September 2019</td>\n",
       "      <td>1.0</td>\n",
       "      <td>no</td>\n",
       "      <td>2019</td>\n",
       "      <td>September</td>\n",
       "    </tr>\n",
       "  </tbody>\n",
       "</table>\n",
       "</div>"
      ],
      "text/plain": [
       "   Unnamed: 0   Airline Name  Overall_Rating  \\\n",
       "0           0    AB Aviation               2   \n",
       "1           1    AB Aviation               0   \n",
       "2           2    AB Aviation               0   \n",
       "3           3  Adria Airways               0   \n",
       "4           4  Adria Airways               0   \n",
       "\n",
       "                            Review_Title          Review Date  Verified  \\\n",
       "0                \"pretty decent airline\"   11th November 2019      True   \n",
       "1                   \"Not a good airline\"       25th June 2019      True   \n",
       "2         \"flight was fortunately short\"       25th June 2019      True   \n",
       "3    \"I will never fly again with Adria\"  28th September 2019     False   \n",
       "4  \"it ruined our last days of holidays\"  24th September 2019      True   \n",
       "\n",
       "                                              Review       Aircraft  \\\n",
       "0    Moroni to Moheli. Turned out to be a pretty ...            NaN   \n",
       "1   Moroni to Anjouan. It is a very small airline...           E120   \n",
       "2    Anjouan to Dzaoudzi. A very small airline an...  Embraer E120    \n",
       "3    Please do a favor yourself and do not fly wi...            NaN   \n",
       "4   Do not book a flight with this airline! My fr...            NaN   \n",
       "\n",
       "  Type Of Traveller      Seat Type                             Route  \\\n",
       "0      Solo Leisure  Economy Class                  Moroni to Moheli   \n",
       "1      Solo Leisure  Economy Class                 Moroni to Anjouan   \n",
       "2      Solo Leisure  Economy Class               Anjouan to Dzaoudzi   \n",
       "3      Solo Leisure  Economy Class             Frankfurt to Pristina   \n",
       "4    Couple Leisure  Economy Class  Sofia to Amsterdam via Ljubljana   \n",
       "\n",
       "       Date Flown  Value For Money Recommended  Year      Month  \n",
       "0   November 2019              3.0         yes  2019   November  \n",
       "1       June 2019              2.0          no  2019       June  \n",
       "2       June 2019              2.0          no  2019       June  \n",
       "3  September 2019              1.0          no  2019  September  \n",
       "4  September 2019              1.0          no  2019  September  "
      ]
     },
     "execution_count": 34,
     "metadata": {},
     "output_type": "execute_result"
    }
   ],
   "source": [
    "eda_df.head()"
   ]
  },
  {
   "cell_type": "code",
   "execution_count": 39,
   "metadata": {},
   "outputs": [
    {
     "data": {
      "text/plain": [
       "Airline Name\n",
       "Mack Air              2.000000\n",
       "Hunnu Air             2.000000\n",
       "Nile Air              2.000000\n",
       "Nauru Airlines        2.000000\n",
       "Henan Airlines        2.000000\n",
       "Europe Airpost        2.000000\n",
       "Badr Airlines         2.000000\n",
       "Eswatini Air          2.000000\n",
       "Tibet Airlines        2.000000\n",
       "Air Costa             2.000000\n",
       "Conviasa              2.000000\n",
       "Aero VIP              2.000000\n",
       "Manta Air             2.000000\n",
       "Qazaq Air             2.000000\n",
       "Jazz                  1.800000\n",
       "Moldavian Airlines    1.800000\n",
       "TransAsia Airways     1.714286\n",
       "Eritrean Airlines     1.666667\n",
       "Myanmar Airways       1.592593\n",
       "Trigana Air           1.500000\n",
       "Safarilink            1.500000\n",
       "Felix Airways         1.500000\n",
       "Mandarin Airlines     1.500000\n",
       "SCAT Airlines         1.500000\n",
       "Air Djibouti          1.500000\n",
       "Name: Overall_Rating, dtype: float64"
      ]
     },
     "execution_count": 39,
     "metadata": {},
     "output_type": "execute_result"
    }
   ],
   "source": [
    "ratings_grp = eda_df.groupby('Airline Name')['Overall_Rating'].agg('mean').sort_values(ascending=False).head(25)\n",
    "ratings_grp "
   ]
  },
  {
   "cell_type": "code",
   "execution_count": 40,
   "metadata": {},
   "outputs": [
    {
     "data": {
      "text/plain": [
       "Airline Name\n",
       "Madagasikara Airways         0.0\n",
       "BoraJet                      0.0\n",
       "Mauritania Airlines          0.0\n",
       "Maya Island Air              0.0\n",
       "JC International Airlines    0.0\n",
       "Cambodia Bayon Airlines      0.0\n",
       "NextJet                      0.0\n",
       "Air Cote d'Ivoire            0.0\n",
       "Camair-Co                    0.0\n",
       "Sun-Air                      0.0\n",
       "Iberojet                     0.0\n",
       "Air Rarotonga                0.0\n",
       "Sudan Airways                0.0\n",
       "Air Iceland Connect          0.0\n",
       "Pan Pacific Airlines         0.0\n",
       "Himalaya Airlines            0.0\n",
       "Bluebird Airways             0.0\n",
       "Sol Líneas Aéreas            0.0\n",
       "Smartavia                    0.0\n",
       "Air Labrador                 0.0\n",
       "KD Air                       0.0\n",
       "Grand Cru Airlines           0.0\n",
       "FMI Air                      0.0\n",
       "FLYONE                       0.0\n",
       "Rhein-Neckar Air             0.0\n",
       "Name: Overall_Rating, dtype: float64"
      ]
     },
     "execution_count": 40,
     "metadata": {},
     "output_type": "execute_result"
    }
   ],
   "source": [
    "ratings_grp2 = eda_df.groupby('Airline Name')['Overall_Rating'].agg('mean').sort_values(ascending=True).head(25)\n",
    "ratings_grp2"
   ]
  },
  {
   "cell_type": "code",
   "execution_count": 43,
   "metadata": {},
   "outputs": [
    {
     "data": {
      "image/png": "[encoded data removed]",
      "text/plain": [
       "<Figure size 1400x600 with 1 Axes>"
      ]
     },
     "metadata": {},
     "output_type": "display_data"
    }
   ],
   "source": [
    "plt.figure(figsize=(14,6))\n",
    "sns.barplot(data=ratings_grp.reset_index(), x='Airline Name', y='Overall_Rating')\n",
    "plt.xticks(rotation=45)\n",
    "plt.show()"
   ]
  },
  {
   "cell_type": "code",
   "execution_count": 64,
   "metadata": {},
   "outputs": [
    {
     "name": "stdout",
     "output_type": "stream",
     "text": [
      "Airline Name          Year\n",
      "Air Costa             2015    2.0\n",
      "S7 Siberia Airlines   2013    2.0\n",
      "Air Koryo             2006    2.0\n",
      "                      2004    2.0\n",
      "Libyan Airlines       2007    2.0\n",
      "Air KBZ               2019    2.0\n",
      "                      2017    2.0\n",
      "Airnorth              2018    2.0\n",
      "Libyan Airlines       2012    2.0\n",
      "TAAG Angola Airlines  2006    2.0\n",
      "Dniproavia            2012    2.0\n",
      "S7 Siberia Airlines   2014    2.0\n",
      "TAAG Angola Airlines  2014    2.0\n",
      "Edelweiss Air         2003    2.0\n",
      "Dragonair             2017    2.0\n",
      "Jazz                  2018    2.0\n",
      "Luxair                2004    2.0\n",
      "TAG Airlines          2016    2.0\n",
      "Luxair                2005    2.0\n",
      "TAME                  2004    2.0\n",
      "                      2005    2.0\n",
      "                      2006    2.0\n",
      "Cayman Airways        2014    2.0\n",
      "Rwandair              2010    2.0\n",
      "Libyan Airlines       2005    2.0\n",
      "SyrianAir             2006    2.0\n",
      "                      2005    2.0\n",
      "Airnorth              2013    2.0\n",
      "Air Madagascar        2004    2.0\n",
      "Air Macau             2019    2.0\n",
      "Aircalin              2004    2.0\n",
      "                      2005    2.0\n",
      "Jeju Air              2016    2.0\n",
      "                      2013    2.0\n",
      "SA Express            2015    2.0\n",
      "Aircalin              2014    2.0\n",
      "Air Macau             2007    2.0\n",
      "                      2006    2.0\n",
      "                      2005    2.0\n",
      "                      2004    2.0\n",
      "                      2003    2.0\n",
      "Aircalin              2019    2.0\n",
      "SA Express            2006    2.0\n",
      "                      2005    2.0\n",
      "Central Mountain Air  2013    2.0\n",
      "                      2011    2.0\n",
      "SyrianAir             2003    2.0\n",
      "                      2004    2.0\n",
      "Airnorth              2009    2.0\n",
      "Rwandair              2007    2.0\n",
      "TAME                  2007    2.0\n",
      "                      2011    2.0\n",
      "AnadoluJet            2010    2.0\n",
      "Carpatair             2011    2.0\n",
      "AnadoluJet            2020    2.0\n",
      "Jazeera Airways       2006    2.0\n",
      "Luxair                2011    2.0\n",
      "Carpatair             2008    2.0\n",
      "Regional Express      2010    2.0\n",
      "Israir Airlines       2014    2.0\n",
      "Name: Overall_Rating, dtype: float64\n"
     ]
    }
   ],
   "source": [
    "yearly_group = eda_df.groupby(['Airline Name','Year'])['Overall_Rating'].agg('mean').sort_values(ascending=False).head(60)\n",
    "print(yearly_group) "
   ]
  },
  {
   "cell_type": "code",
   "execution_count": 56,
   "metadata": {},
   "outputs": [
    {
     "data": {
      "text/plain": [
       "Airline Name       Month    \n",
       "SkyWork Airlines   August       2.0\n",
       "Air Busan          August       2.0\n",
       "Cyprus Airways     April        2.0\n",
       "Ultra Air          December     2.0\n",
       "Uganda Airlines    November     2.0\n",
       "                               ... \n",
       "Europe Airpost     September    2.0\n",
       "Safi Airways       November     2.0\n",
       "Felix Airways      July         2.0\n",
       "Tropic Air Belize  March        2.0\n",
       "                   April        2.0\n",
       "Name: Overall_Rating, Length: 70, dtype: float64"
      ]
     },
     "execution_count": 56,
     "metadata": {},
     "output_type": "execute_result"
    }
   ],
   "source": [
    "monthly_grp = eda_df.groupby(['Airline Name','Month'])['Overall_Rating'].agg('mean').sort_values(ascending=False).head(0)\n",
    "monthly_grp  "
   ]
  },
  {
   "cell_type": "code",
   "execution_count": 54,
   "metadata": {},
   "outputs": [
    {
     "data": {
      "image/png": "[encoded data removed]",
      "text/plain": [
       "<Figure size 1000x600 with 1 Axes>"
      ]
     },
     "metadata": {},
     "output_type": "display_data"
    }
   ],
   "source": [
    "plt.figure(figsize=(10,6))\n",
    "sns.barplot(data=yearly_group.reset_index(), x='Airline Name', y='Overall_Rating')\n",
    "plt.xticks(rotation=45)\n",
    "plt.show()"
   ]
  },
  {
   "cell_type": "code",
   "execution_count": 62,
   "metadata": {},
   "outputs": [
    {
     "data": {
      "image/png": "[encoded data removed]",
      "text/plain": [
       "<Figure size 1000x600 with 1 Axes>"
      ]
     },
     "metadata": {},
     "output_type": "display_data"
    }
   ],
   "source": [
    "# Plot the airlines with a 2.0 rating for four consecutive years\n",
    "selected_airline = ['Air Macau','TAME','Air Djibouti']\n",
    "selected_airlines_df = yearly_group.reset_index()[yearly_group.reset_index()['Airline Name'].isin(selected_airline)]\n",
    "plt.figure(figsize=(10,6))\n",
    "sns.barplot(data=selected_airlines_df, x='Airline Name', y='Overall_Rating', hue='Year')\n",
    "plt.xticks(rotation=45)\n",
    "plt.show()"
   ]
  },
  {
   "cell_type": "code",
   "execution_count": 84,
   "metadata": {},
   "outputs": [
    {
     "name": "stdout",
     "output_type": "stream",
     "text": [
      "                                       mean  count\n",
      "Seat Type       Airline Name                      \n",
      "Economy Class   Qazaq Air               2.0      2\n",
      "First Class     Luxair                  2.0      1\n",
      "                Jetstar Asia            2.0      1\n",
      "Business Class  Nepal Airlines          2.0      1\n",
      "Premium Economy Regional Express        2.0      1\n",
      "                Dragonair               2.0      2\n",
      "Economy Class   Henan Airlines          2.0      1\n",
      "Premium Economy Rex Airlines            2.0      1\n",
      "                CityJet                 2.0      1\n",
      "First Class     TAAG Angola Airlines    2.0      1\n",
      "Economy Class   Hunnu Air               2.0      1\n",
      "Premium Economy SkyWest Airlines        2.0      1\n",
      "First Class     Qatar Airways           2.0      1\n",
      "Economy Class   Carpatair               2.0      1\n",
      "                Air Costa               2.0      1\n",
      "First Class     SmartWings              2.0      1\n",
      "Business Class  Conviasa                2.0      1\n",
      "Economy Class   Tibet Airlines          2.0      1\n",
      "Business Class  Myanmar Airways         2.0      1\n",
      "First Class     Jetairfly               2.0      1\n",
      "                Fiji Airways            2.0      1\n",
      "                Etihad Airways          2.0      1\n",
      "Economy Class   Europe Airpost          2.0      1\n",
      "Business Class  Estonian Air            2.0      1\n",
      "Economy Class   Eswatini Air            2.0      1\n",
      "First Class     El Al Israel Airlines   2.0      1\n",
      "Premium Economy Air Austral             2.0      1\n",
      "Business Class  Germanwings             2.0      1\n",
      "First Class     Air France              2.0      1\n",
      "Premium Economy Loganair                2.0      1\n",
      "Economy Class   Badr Airlines           2.0      1\n",
      "                Conviasa                2.0      2\n",
      "Business Class  Jin Air                 2.0      1\n",
      "Economy Class   Mack Air                2.0      1\n",
      "                SyrianAir               2.0      4\n",
      "                Moldavian Airlines      2.0      1\n",
      "First Class     VivaAerobús             2.0      1\n",
      "Economy Class   Aerocaribbean           2.0      1\n",
      "Premium Economy UP by El Al             2.0      1\n",
      "First Class     Thai Smile Airways      2.0      1\n"
     ]
    }
   ],
   "source": [
    "# Top airlines by seat ratings \n",
    "seats_group = eda_df.groupby(['Seat Type','Airline Name'])['Overall_Rating'].agg(['mean','count']).sort_values(by='mean',ascending=False).head(40)\n",
    "print(seats_group)"
   ]
  },
  {
   "cell_type": "code",
   "execution_count": 97,
   "metadata": {},
   "outputs": [
    {
     "name": "stdout",
     "output_type": "stream",
     "text": [
      "         Seat Type                                 mean\n",
      "0   Business Class     (Business Class, Nepal Airlines)\n",
      "1    Economy Class           (Economy Class, Qazaq Air)\n",
      "2      First Class                (First Class, Luxair)\n",
      "3  Premium Economy  (Premium Economy, Regional Express)\n"
     ]
    }
   ],
   "source": [
    "best_airlines_by_seat_type = seats_group.groupby('Seat Type')['mean'].idxmax().reset_index()\n",
    "\n",
    "print(best_airlines_by_seat_type)\n"
   ]
  },
  {
   "cell_type": "code",
   "execution_count": 82,
   "metadata": {},
   "outputs": [
    {
     "name": "stdout",
     "output_type": "stream",
     "text": [
      "                                           mean  count\n",
      "Seat Type       Airline Name                          \n",
      "Premium Economy flydubai                    0.0      1\n",
      "Economy Class   Henan Airlines              2.0      1\n",
      "Business Class  flyadeal                    0.0      1\n",
      "                flydubai                    0.0      1\n",
      "Premium Economy Africa World Airlines       0.0      1\n",
      "Economy Class   AeroItalia                  0.0      1\n",
      "                Aerocaribbean               2.0      1\n",
      "First Class     Yemenia                     1.0      1\n",
      "                VivaAerobús                 2.0      1\n",
      "                Tigerair Australia          0.0      1\n",
      "                Tianjin Airlines            2.0      1\n",
      "                Thai Smile Airways          2.0      1\n",
      "                TAP Portugal                0.0      1\n",
      "                TAM Airlines                1.0      1\n",
      "                TAAG Angola Airlines        2.0      1\n",
      "Premium Economy Air Austral                 2.0      1\n",
      "First Class     Spirit Airlines             0.0      1\n",
      "                SmartWings                  2.0      1\n",
      "                Shanghai Airlines           0.0      1\n",
      "Economy Class   Air Costa                   2.0      1\n",
      "First Class     Shandong Airlines           1.0      1\n",
      "                S7 Siberia Airlines         1.0      1\n",
      "                Royal Jordanian Airlines    0.0      1\n",
      "                Qatar Airways               2.0      1\n",
      "                Qantas Airways              0.0      1\n",
      "                Porter Airlines             0.0      1\n",
      "                Omni Air International      0.0      1\n",
      "                Norwegian                   0.0      1\n",
      "                Luxair                      2.0      1\n",
      "Economy Class   Air Labrador                0.0      1\n",
      "First Class     Lufthansa                   0.0      1\n",
      "                South African Airways       1.0      1\n",
      "Business Class  Wamos Air                   2.0      1\n",
      "                Volaris                     0.0      1\n",
      "                VivaAerobús                 0.0      1\n",
      "                Mihin Lanka                 0.0      1\n",
      "                Myanmar Airways             2.0      1\n",
      "                Myanmar National Airlines   0.0      1\n",
      "                NAM Air                     1.0      1\n",
      "                Nepal Airlines              2.0      1\n"
     ]
    }
   ],
   "source": [
    "seats_group2 = eda_df.groupby(['Seat Type','Airline Name'])['Overall_Rating'].agg(['mean','count']).sort_values(by='count',ascending=True).head(40)\n",
    "print(seats_group2)"
   ]
  },
  {
   "cell_type": "code",
   "execution_count": null,
   "metadata": {},
   "outputs": [],
   "source": []
  }
 ],
 "metadata": {
  "kernelspec": {
   "display_name": "Python 3",
   "language": "python",
   "name": "python3"
  },
  "language_info": {
   "codemirror_mode": {
    "name": "ipython",
    "version": 3
   },
   "file_extension": ".py",
   "mimetype": "text/x-python",
   "name": "python",
   "nbconvert_exporter": "python",
   "pygments_lexer": "ipython3",
   "version": "3.10.11"
  }
 },
 "nbformat": 4,
 "nbformat_minor": 2
}
